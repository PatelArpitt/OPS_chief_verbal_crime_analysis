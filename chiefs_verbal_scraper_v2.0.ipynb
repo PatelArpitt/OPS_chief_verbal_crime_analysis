{
 "cells": [
  {
   "cell_type": "code",
   "execution_count": 27,
   "metadata": {},
   "outputs": [
    {
     "data": {
      "text/plain": [
       "True"
      ]
     },
     "execution_count": 27,
     "metadata": {},
     "output_type": "execute_result"
    }
   ],
   "source": [
    "# Importing pre-requisite libraries for the project\n",
    "\n",
    "import requests\n",
    "import urllib\n",
    "from bs4 import BeautifulSoup\n",
    "from selenium import webdriver\n",
    "import pandas as pd\n",
    "import re\n",
    "from itertools import cycle\n",
    "import traceback\n",
    "import smtplib\n",
    "from email.mime.multipart import MIMEMultipart\n",
    "from email.mime.text import MIMEText\n",
    "from email.mime.application import MIMEApplication\n",
    "import os\n",
    "from dotenv import load_dotenv\n",
    "\n",
    "\n",
    "# Setting up environment variables\n",
    "\n",
    "load_dotenv()"
   ]
  },
  {
   "cell_type": "code",
   "execution_count": 28,
   "metadata": {},
   "outputs": [],
   "source": [
    "# Initiate Selenium Framework (Chromium Headless Browser)\n",
    "\n",
    "def initialize_chromium():\n",
    "    options = webdriver.ChromeOptions()\n",
    "    options.add_argument(\"--disable-infobars\")\n",
    "    options.add_argument(\"--start-maximized\")\n",
    "    options.add_argument(\"--disable-extensions\")\n",
    "    options.add_argument('--window-size=1920,1080')\n",
    "    # options.add_argument(\"--headless\")\n",
    "    global driver; driver = webdriver.Chrome(options = options)\n",
    "\n",
    "\n",
    "# Release Selenium Framework (Chromium Headless Browser)\n",
    "\n",
    "def release_chromium():\n",
    "    driver.close()"
   ]
  },
  {
   "cell_type": "code",
   "execution_count": 29,
   "metadata": {},
   "outputs": [],
   "source": [
    "# Extracting the Regular Meetings data to a DataFrame\n",
    "\n",
    "def meetings_extraction():\n",
    "  # url = 'https://ottawapoliceboard.ca/opsb-cspo/meetings.html'\n",
    "  # url = 'https://pub-ottawa.escribemeetings.com/?Expanded=Ottawa%20Police%20Services%20Board&Year=2023'\n",
    "  # url = 'https://pub-ottawa.escribemeetings.com/Meeting.aspx?Id=3760766e-baa1-4574-a3c3-da5e7879c8c6&Agenda=Agenda&lang=English'\n",
    "\n",
    "  global current_year; current_year = 2022\n",
    "  reg_meets_all = []\n",
    "  reg_meets_cancelled = []\n",
    "  reg_meets_without_verbals = []\n",
    "  meeting_no = 1\n",
    "\n",
    "  initialize_chromium()\n",
    "\n",
    "  while current_year > 2010:\n",
    "    url = f'https://ottawapoliceboard.ca/opsb-cspo/{current_year}-meetings.html'\n",
    "\n",
    "    driver.get(url)\n",
    "    page_src = driver.page_source\n",
    "    soup = BeautifulSoup(page_src, 'html.parser')\n",
    "\n",
    "    meetings_list = soup.find('table').find('tbody').find_all('tr')\n",
    "\n",
    "    for index, tr in enumerate(reversed(meetings_list)):\n",
    "        td = tr.find_all('td')\n",
    "        if td[3].get_text().strip() == 'Regular Meeting':\n",
    "          if current_year < 2013: date = f'{td[0].get_text().strip()}, {current_year}'\n",
    "          else: date = td[0].get_text().strip()\n",
    "\n",
    "          # driver.get(td[0].find('a').get('href'))\n",
    "          # page_src = driver.page_source\n",
    "\n",
    "          reg_meets_all.append({\n",
    "              'Meeting #': meeting_no,\n",
    "              'Date': date,\n",
    "              'Location': td[1].get_text().strip(),\n",
    "              'Time': td[2].get_text().strip(),\n",
    "              'Meeting Type': td[3].get_text().strip(),\n",
    "              'Meeting Page': td[0].find('a').get('href')\n",
    "            })\n",
    "          meeting_no = meeting_no + 1\n",
    "    print(f'Regular Meetings of Year {current_year} processed.')\n",
    "    current_year = current_year - 1\n",
    "  export_to_excel(reg_meets_all)\n",
    "\n",
    "\n",
    "# Remove Cancelled Regular Meetings\n",
    "\n",
    "\n",
    "# Check for Police Chief Verbals from the meetings list\n",
    "\n",
    "def check_chief_verbals():\n",
    "  print()\n",
    "\n",
    "\n",
    "# Export the DataFrame to an Excel Sheet\n",
    "\n",
    "def export_to_excel(df1, df2, df3):\n",
    "  df1 = pd.DataFrame(df1)\n",
    "  df1.to_excel('regular_meetings_v2.0.xlsx', sheet_name = 'All Regular Meetings')"
   ]
  },
  {
   "cell_type": "code",
   "execution_count": 30,
   "metadata": {},
   "outputs": [],
   "source": [
    "def send_mail():\n",
    "    recipient_mail = input(\"Enter an E-mail address to receive missing chief's verbal list\")\n",
    "    to_mail = recipient_mail\n",
    "    gmail_usr = os.getenv('GMAIL_USR')\n",
    "    gmail_pwd = os.getenv('GMAIL_PWD')\n",
    "\n",
    "    msg = MIMEMultipart()\n",
    "    msg['Subject'] = \"Missing Chief's Verbals List\"\n",
    "    msg['From'] = gmail_usr\n",
    "    msg['To'] = to_mail\n",
    "\n",
    "    msgText = MIMEText(\"\\n This mail consists of regular meetings list where Chief's Verbal document is missing \\n p.f.a. \\n\", 'html')\n",
    "    msg.attach(msgText)\n",
    "\n",
    "    filename = \"regular_meetings_v2.0.xlsx\"\n",
    "    xlsx = MIMEApplication(open(filename, 'rb').read())\n",
    "    xlsx.add_header('Content-Disposition', 'attachment', filename = 'missing_chief_verbals.xlsx')\n",
    "    msg.attach(xlsx)\n",
    "\n",
    "    # with open(filename, 'rb') as f:\n",
    "    #     file_data = f.read()\n",
    "    # smtpserver.add_attachment(file_data, maintype=\"application\", subtype=\"xlsx\", filename='regular_meetings.xlsx')\n",
    "\n",
    "    try:\n",
    "        with smtplib.SMTP(\"smtp.gmail.com\", 587) as smtpserver:\n",
    "            smtpserver.ehlo()\n",
    "            smtpserver.starttls()\n",
    "            smtpserver.ehlo()\n",
    "            smtpserver.login(gmail_usr, gmail_pwd)\n",
    "            smtpserver.sendmail(f'{gmail_usr}<Team-8 SMTP Mail Client>', to_mail, msg.as_string())\n",
    "            smtpserver.quit()\n",
    "    except Exception as e:\n",
    "        print(e)\n",
    "\n",
    "    print ('email sent!')"
   ]
  },
  {
   "cell_type": "code",
   "execution_count": 31,
   "metadata": {},
   "outputs": [
    {
     "name": "stdout",
     "output_type": "stream",
     "text": [
      "Regular Meetings of Year 2022 processed.\n",
      "Regular Meetings of Year 2021 processed.\n",
      "Regular Meetings of Year 2020 processed.\n",
      "Regular Meetings of Year 2019 processed.\n",
      "Regular Meetings of Year 2018 processed.\n",
      "Regular Meetings of Year 2017 processed.\n",
      "Regular Meetings of Year 2016 processed.\n",
      "Regular Meetings of Year 2015 processed.\n",
      "Regular Meetings of Year 2014 processed.\n",
      "Regular Meetings of Year 2013 processed.\n",
      "Regular Meetings of Year 2012 processed.\n",
      "Regular Meetings of Year 2011 processed.\n"
     ]
    },
    {
     "ename": "SMTPServerDisconnected",
     "evalue": "please run connect() first",
     "output_type": "error",
     "traceback": [
      "\u001b[1;31m---------------------------------------------------------------------------\u001b[0m",
      "\u001b[1;31mSMTPServerDisconnected\u001b[0m                    Traceback (most recent call last)",
      "\u001b[1;32md:\\Algonquin College\\Level 2\\Capstone Project\\Files\\chiefs_verbal_scraper_v2.0.ipynb Cell 5\u001b[0m in \u001b[0;36m<cell line: 3>\u001b[1;34m()\u001b[0m\n\u001b[0;32m      <a href='vscode-notebook-cell:/d%3A/Algonquin%20College/Level%202/Capstone%20Project/Files/chiefs_verbal_scraper_v2.0.ipynb#W4sZmlsZQ%3D%3D?line=0'>1</a>\u001b[0m meetings_extraction()\n\u001b[0;32m      <a href='vscode-notebook-cell:/d%3A/Algonquin%20College/Level%202/Capstone%20Project/Files/chiefs_verbal_scraper_v2.0.ipynb#W4sZmlsZQ%3D%3D?line=1'>2</a>\u001b[0m release_chromium()\n\u001b[1;32m----> <a href='vscode-notebook-cell:/d%3A/Algonquin%20College/Level%202/Capstone%20Project/Files/chiefs_verbal_scraper_v2.0.ipynb#W4sZmlsZQ%3D%3D?line=2'>3</a>\u001b[0m send_mail()\n",
      "\u001b[1;32md:\\Algonquin College\\Level 2\\Capstone Project\\Files\\chiefs_verbal_scraper_v2.0.ipynb Cell 5\u001b[0m in \u001b[0;36msend_mail\u001b[1;34m()\u001b[0m\n\u001b[0;32m     <a href='vscode-notebook-cell:/d%3A/Algonquin%20College/Level%202/Capstone%20Project/Files/chiefs_verbal_scraper_v2.0.ipynb#W4sZmlsZQ%3D%3D?line=30'>31</a>\u001b[0m \u001b[39mexcept\u001b[39;00m \u001b[39mException\u001b[39;00m \u001b[39mas\u001b[39;00m e:\n\u001b[0;32m     <a href='vscode-notebook-cell:/d%3A/Algonquin%20College/Level%202/Capstone%20Project/Files/chiefs_verbal_scraper_v2.0.ipynb#W4sZmlsZQ%3D%3D?line=31'>32</a>\u001b[0m     \u001b[39mprint\u001b[39m(e)\n\u001b[1;32m---> <a href='vscode-notebook-cell:/d%3A/Algonquin%20College/Level%202/Capstone%20Project/Files/chiefs_verbal_scraper_v2.0.ipynb#W4sZmlsZQ%3D%3D?line=33'>34</a>\u001b[0m smtpserver\u001b[39m.\u001b[39;49mquit()\n\u001b[0;32m     <a href='vscode-notebook-cell:/d%3A/Algonquin%20College/Level%202/Capstone%20Project/Files/chiefs_verbal_scraper_v2.0.ipynb#W4sZmlsZQ%3D%3D?line=34'>35</a>\u001b[0m \u001b[39mprint\u001b[39m (\u001b[39m'\u001b[39m\u001b[39memail sent!\u001b[39m\u001b[39m'\u001b[39m)\n",
      "File \u001b[1;32mc:\\Users\\patel\\anaconda3\\lib\\smtplib.py:1004\u001b[0m, in \u001b[0;36mSMTP.quit\u001b[1;34m(self)\u001b[0m\n\u001b[0;32m   1002\u001b[0m \u001b[39mdef\u001b[39;00m \u001b[39mquit\u001b[39m(\u001b[39mself\u001b[39m):\n\u001b[0;32m   1003\u001b[0m     \u001b[39m\"\"\"Terminate the SMTP session.\"\"\"\u001b[39;00m\n\u001b[1;32m-> 1004\u001b[0m     res \u001b[39m=\u001b[39m \u001b[39mself\u001b[39;49m\u001b[39m.\u001b[39;49mdocmd(\u001b[39m\"\u001b[39;49m\u001b[39mquit\u001b[39;49m\u001b[39m\"\u001b[39;49m)\n\u001b[0;32m   1005\u001b[0m     \u001b[39m# A new EHLO is required after reconnecting with connect()\u001b[39;00m\n\u001b[0;32m   1006\u001b[0m     \u001b[39mself\u001b[39m\u001b[39m.\u001b[39mehlo_resp \u001b[39m=\u001b[39m \u001b[39mself\u001b[39m\u001b[39m.\u001b[39mhelo_resp \u001b[39m=\u001b[39m \u001b[39mNone\u001b[39;00m\n",
      "File \u001b[1;32mc:\\Users\\patel\\anaconda3\\lib\\smtplib.py:431\u001b[0m, in \u001b[0;36mSMTP.docmd\u001b[1;34m(self, cmd, args)\u001b[0m\n\u001b[0;32m    429\u001b[0m \u001b[39mdef\u001b[39;00m \u001b[39mdocmd\u001b[39m(\u001b[39mself\u001b[39m, cmd, args\u001b[39m=\u001b[39m\u001b[39m\"\u001b[39m\u001b[39m\"\u001b[39m):\n\u001b[0;32m    430\u001b[0m     \u001b[39m\"\"\"Send a command, and return its response code.\"\"\"\u001b[39;00m\n\u001b[1;32m--> 431\u001b[0m     \u001b[39mself\u001b[39;49m\u001b[39m.\u001b[39;49mputcmd(cmd, args)\n\u001b[0;32m    432\u001b[0m     \u001b[39mreturn\u001b[39;00m \u001b[39mself\u001b[39m\u001b[39m.\u001b[39mgetreply()\n",
      "File \u001b[1;32mc:\\Users\\patel\\anaconda3\\lib\\smtplib.py:378\u001b[0m, in \u001b[0;36mSMTP.putcmd\u001b[1;34m(self, cmd, args)\u001b[0m\n\u001b[0;32m    374\u001b[0m     s \u001b[39m=\u001b[39m s\u001b[39m.\u001b[39mreplace(\u001b[39m'\u001b[39m\u001b[39m\\n\u001b[39;00m\u001b[39m'\u001b[39m, \u001b[39m'\u001b[39m\u001b[39m\\\\\u001b[39;00m\u001b[39mn\u001b[39m\u001b[39m'\u001b[39m)\u001b[39m.\u001b[39mreplace(\u001b[39m'\u001b[39m\u001b[39m\\r\u001b[39;00m\u001b[39m'\u001b[39m, \u001b[39m'\u001b[39m\u001b[39m\\\\\u001b[39;00m\u001b[39mr\u001b[39m\u001b[39m'\u001b[39m)\n\u001b[0;32m    375\u001b[0m     \u001b[39mraise\u001b[39;00m \u001b[39mValueError\u001b[39;00m(\n\u001b[0;32m    376\u001b[0m         \u001b[39mf\u001b[39m\u001b[39m'\u001b[39m\u001b[39mcommand and arguments contain prohibited newline characters: \u001b[39m\u001b[39m{\u001b[39;00ms\u001b[39m}\u001b[39;00m\u001b[39m'\u001b[39m\n\u001b[0;32m    377\u001b[0m     )\n\u001b[1;32m--> 378\u001b[0m \u001b[39mself\u001b[39;49m\u001b[39m.\u001b[39;49msend(\u001b[39mf\u001b[39;49m\u001b[39m'\u001b[39;49m\u001b[39m{\u001b[39;49;00ms\u001b[39m}\u001b[39;49;00m\u001b[39m{\u001b[39;49;00mCRLF\u001b[39m}\u001b[39;49;00m\u001b[39m'\u001b[39;49m)\n",
      "File \u001b[1;32mc:\\Users\\patel\\anaconda3\\lib\\smtplib.py:365\u001b[0m, in \u001b[0;36mSMTP.send\u001b[1;34m(self, s)\u001b[0m\n\u001b[0;32m    363\u001b[0m         \u001b[39mraise\u001b[39;00m SMTPServerDisconnected(\u001b[39m'\u001b[39m\u001b[39mServer not connected\u001b[39m\u001b[39m'\u001b[39m)\n\u001b[0;32m    364\u001b[0m \u001b[39melse\u001b[39;00m:\n\u001b[1;32m--> 365\u001b[0m     \u001b[39mraise\u001b[39;00m SMTPServerDisconnected(\u001b[39m'\u001b[39m\u001b[39mplease run connect() first\u001b[39m\u001b[39m'\u001b[39m)\n",
      "\u001b[1;31mSMTPServerDisconnected\u001b[0m: please run connect() first"
     ]
    }
   ],
   "source": [
    "meetings_extraction()\n",
    "release_chromium()\n",
    "# send_mail()"
   ]
  }
 ],
 "metadata": {
  "kernelspec": {
   "display_name": "base",
   "language": "python",
   "name": "python3"
  },
  "language_info": {
   "codemirror_mode": {
    "name": "ipython",
    "version": 3
   },
   "file_extension": ".py",
   "mimetype": "text/x-python",
   "name": "python",
   "nbconvert_exporter": "python",
   "pygments_lexer": "ipython3",
   "version": "3.9.12"
  },
  "orig_nbformat": 4,
  "vscode": {
   "interpreter": {
    "hash": "1bad07944f3d7920347c6d0b92012e122b73ccfed47649f1fe4ad4ea27f4d731"
   }
  }
 },
 "nbformat": 4,
 "nbformat_minor": 2
}

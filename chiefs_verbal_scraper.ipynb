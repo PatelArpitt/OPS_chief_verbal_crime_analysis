{
 "cells": [
  {
   "cell_type": "code",
   "execution_count": 1,
   "metadata": {},
   "outputs": [],
   "source": [
    "import requests\n",
    "import urllib\n",
    "from bs4 import BeautifulSoup\n",
    "from selenium import webdriver\n",
    "import pandas as pd\n",
    "import re\n",
    "from itertools import cycle\n",
    "import traceback\n",
    "import smtplib"
   ]
  },
  {
   "cell_type": "code",
   "execution_count": 2,
   "metadata": {},
   "outputs": [
    {
     "name": "stdout",
     "output_type": "stream",
     "text": [
      "Regular Meetings of Year 2022 processed.\n",
      "Regular Meetings of Year 2021 processed.\n",
      "Regular Meetings of Year 2020 processed.\n",
      "Regular Meetings of Year 2019 processed.\n",
      "Regular Meetings of Year 2018 processed.\n",
      "Regular Meetings of Year 2017 processed.\n",
      "Regular Meetings of Year 2016 processed.\n",
      "Regular Meetings of Year 2015 processed.\n",
      "Regular Meetings of Year 2014 processed.\n",
      "Regular Meetings of Year 2013 processed.\n",
      "Regular Meetings of Year 2012 processed.\n",
      "Regular Meetings of Year 2011 processed.\n"
     ]
    }
   ],
   "source": [
    "# url = 'https://ottawapoliceboard.ca/opsb-cspo/meetings.html'\n",
    "# url = 'https://pub-ottawa.escribemeetings.com/?Expanded=Ottawa%20Police%20Services%20Board&Year=2023'\n",
    "# url = 'https://pub-ottawa.escribemeetings.com/Meeting.aspx?Id=3760766e-baa1-4574-a3c3-da5e7879c8c6&Agenda=Agenda&lang=English'\n",
    "\n",
    "current_year = 2022\n",
    "reg_meet = []\n",
    "meeting_no = 1\n",
    "\n",
    "while current_year > 2010:\n",
    "  url = f'https://ottawapoliceboard.ca/opsb-cspo/{current_year}-meetings.html'\n",
    "\n",
    "  options = webdriver.ChromeOptions()\n",
    "  options.add_argument(\"--disable-infobars\")\n",
    "  options.add_argument(\"--start-maximized\")\n",
    "  options.add_argument(\"--disable-extensions\")\n",
    "  options.add_argument('--window-size=1920,1080')\n",
    "  options.add_argument(\"--headless\")\n",
    "  driver = webdriver.Chrome(options = options)\n",
    "\n",
    "  driver.get(url)\n",
    "  page_src = driver.page_source\n",
    "  driver.close()\n",
    "  soup = BeautifulSoup(page_src, 'html.parser')\n",
    "\n",
    "  # print('$$$$$$$$$$$$$$$', soup.find_all('div', text=re.compile('Regular Meeting')))\n",
    "  # print('$$$$$$$$$$$$$$$', soup.find_all('a', attrs = {''} text=re.compile('Regular Meeting')))\n",
    "  # print('$$$$$$$$$$$$$$$', soup.find_all(\"div\", class_=\"meeting-date\"))\n",
    "  # print('$$$$$$$$$$$$$$$', soup.find_all([\"a\", \"div\"], {\"class\": [\"Ottawa Police Services Board\", \"meeting-date\"]}))\n",
    "\n",
    "  meetings_list = soup.find('table').find('tbody').find_all('tr')\n",
    "\n",
    "  for index, tr in enumerate(reversed(meetings_list)):\n",
    "      td = tr.find_all('td')\n",
    "      if td[3].get_text().strip() == 'Regular Meeting':\n",
    "        if current_year < 2013: date = f'{td[0].get_text().strip()}, {current_year}'\n",
    "        else: date = td[0].get_text().strip()\n",
    "        reg_meet.append({\n",
    "          'Meeting #': meeting_no,\n",
    "          'Date': date,\n",
    "          'Location': td[1].get_text().strip(),\n",
    "          'Time': td[2].get_text().strip(),\n",
    "          'Meeting Type': td[3].get_text().strip(),\n",
    "          'Meeting Page': td[0].find('a').get('href')\n",
    "          })\n",
    "        meeting_no = meeting_no + 1\n",
    "  print(f'Regular Meetings of Year {current_year} processed.')\n",
    "  current_year = current_year - 1\n",
    "\n",
    "df = pd.DataFrame(reg_meet)\n",
    "df.to_excel('regular_meetings.xlsx')"
   ]
  },
  {
   "cell_type": "code",
   "execution_count": 134,
   "metadata": {},
   "outputs": [],
   "source": [
    "def send_mail(): \n",
    "    to = 'savan.kotadiya2000@gmail.com'\n",
    "    gmail_user = 'dedpoolop@gmail.com'\n",
    "    gmail_pwd = 'dmittwestwlfmojs'\n",
    "    smtpserver = smtplib.SMTP(\"smtp.gmail.com\", 587)\n",
    "    smtpserver.ehlo()\n",
    "    smtpserver.starttls()\n",
    "    smtpserver.ehlo()\n",
    "    smtpserver.login(gmail_user, gmail_pwd)\n",
    "    header = 'To:' + to + '\\n' + 'From: ' + gmail_user + '\\n' + 'Subject:testing \\n'\n",
    "    msg = header + '\\n this is test msg from Capstone Project \\n\\n'\n",
    "    smtpserver.sendmail(gmail_user, to, msg)\n",
    "    filename = \"meeting_output.xlsx\"\n",
    "    with open('meeting_output.xlsx', 'rb') as f:\n",
    "        file_data = f.read()\n",
    "    msg.add_attachment(file_data, maintype=\"application\", subtype=\"xlsx\", filename='meeting_output.xlsx')\n",
    "    smtpserver.quit()\n",
    "    print ('done!')"
   ]
  }
 ],
 "metadata": {
  "kernelspec": {
   "display_name": "base",
   "language": "python",
   "name": "python3"
  },
  "language_info": {
   "codemirror_mode": {
    "name": "ipython",
    "version": 3
   },
   "file_extension": ".py",
   "mimetype": "text/x-python",
   "name": "python",
   "nbconvert_exporter": "python",
   "pygments_lexer": "ipython3",
   "version": "3.9.12"
  },
  "orig_nbformat": 4,
  "vscode": {
   "interpreter": {
    "hash": "1bad07944f3d7920347c6d0b92012e122b73ccfed47649f1fe4ad4ea27f4d731"
   }
  }
 },
 "nbformat": 4,
 "nbformat_minor": 2
}
